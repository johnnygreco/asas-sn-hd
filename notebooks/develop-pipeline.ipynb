{
 "cells": [
  {
   "cell_type": "code",
   "execution_count": 1,
   "metadata": {
    "collapsed": false,
    "deletable": true,
    "editable": true
   },
   "outputs": [],
   "source": [
    "%matplotlib inline\n",
    "import numpy as np\n",
    "import pandas as pd\n",
    "import matplotlib.pyplot as plt\n",
    "from astropy.table import Table\n",
    "from astropy.convolution import Tophat2DKernel, CustomKernel\n",
    "import ashd"
   ]
  },
  {
   "cell_type": "code",
   "execution_count": 2,
   "metadata": {
    "collapsed": false,
    "deletable": true,
    "editable": true
   },
   "outputs": [
    {
     "name": "stderr",
     "output_type": "stream",
     "text": [
      "WARNING: UnitsWarning: '10+6Msun' did not parse as fits unit: At col 4, Unit 'Msun' not supported by the FITS standard. Did you mean Sun? [astropy.units.core]\n",
      "WARNING: UnitsWarning: '[Sun]' did not parse as fits unit: Invalid character at col 0 [astropy.units.core]\n"
     ]
    }
   ],
   "source": [
    "dwarfs = Table.read('../data/nearby-dwarfs.fits')\n",
    "dwarfs.rename_column('_RAJ2000', 'ra')\n",
    "dwarfs.rename_column('_DEJ2000', 'dec')\n",
    "dwarfs = dwarfs.to_pandas()\n",
    "cut = (dwarfs['R1']>8) & (dwarfs['R1']<50) "
   ]
  },
  {
   "cell_type": "code",
   "execution_count": 3,
   "metadata": {
    "collapsed": false,
    "deletable": true,
    "editable": true
   },
   "outputs": [],
   "source": [
    "names, mu0, rad, ra_vals, dec_vals = dwarfs.loc[cut, ['Name', 'muV', 'R1', 'ra', 'dec']].T.values"
   ]
  },
  {
   "cell_type": "code",
   "execution_count": 22,
   "metadata": {
    "collapsed": false,
    "deletable": true,
    "editable": true
   },
   "outputs": [
    {
     "name": "stderr",
     "output_type": "stream",
     "text": [
      "pipeline 21 | 2017-08-30 15:03:38,586 |  | INFO: fetching image nearest to ra, dec = 132.8750, 63.1300\n"
     ]
    },
    {
     "name": "stdout",
     "output_type": "stream",
     "text": [
      "running on Ursa Major II field\n"
     ]
    },
    {
     "name": "stderr",
     "output_type": "stream",
     "text": [
      "pipeline 41 | 2017-08-30 15:03:40,790 |  | INFO: smoothing image with ring filter with r_in = 5 and r_out = 8\n",
      "pipeline 47 | 2017-08-30 15:03:46,985 |  | INFO: measuring and subtracting background\n",
      "pipeline 50 | 2017-08-30 15:03:47,059 |  | INFO: detecting sources\n",
      "pipeline 79 | 2017-08-30 15:03:51,431 |  | INFO: displaying sources with mpl\n",
      "pipeline 21 | 2017-08-30 15:03:55,908 |  | INFO: fetching image nearest to ra, dec = 210.0250, 14.5000\n"
     ]
    },
    {
     "name": "stdout",
     "output_type": "stream",
     "text": [
      "running on Bootes (I) field\n"
     ]
    },
    {
     "name": "stderr",
     "output_type": "stream",
     "text": [
      "pipeline 41 | 2017-08-30 15:03:57,964 |  | INFO: smoothing image with ring filter with r_in = 5 and r_out = 8\n",
      "pipeline 47 | 2017-08-30 15:04:03,835 |  | INFO: measuring and subtracting background\n",
      "pipeline 50 | 2017-08-30 15:04:03,903 |  | INFO: detecting sources\n",
      "pipeline 79 | 2017-08-30 15:04:07,183 |  | INFO: displaying sources with mpl\n",
      "pipeline 21 | 2017-08-30 15:04:10,879 |  | INFO: fetching image nearest to ra, dec = 260.0517, 57.9153\n"
     ]
    },
    {
     "name": "stdout",
     "output_type": "stream",
     "text": [
      "running on Draco field\n"
     ]
    },
    {
     "name": "stderr",
     "output_type": "stream",
     "text": [
      "pipeline 41 | 2017-08-30 15:04:13,060 |  | INFO: smoothing image with ring filter with r_in = 5 and r_out = 8\n",
      "pipeline 47 | 2017-08-30 15:04:19,019 |  | INFO: measuring and subtracting background\n",
      "pipeline 50 | 2017-08-30 15:04:19,096 |  | INFO: detecting sources\n",
      "pipeline 79 | 2017-08-30 15:04:23,427 |  | INFO: displaying sources with mpl\n",
      "pipeline 21 | 2017-08-30 15:04:27,562 |  | INFO: fetching image nearest to ra, dec = 227.2854, 67.2225\n"
     ]
    },
    {
     "name": "stdout",
     "output_type": "stream",
     "text": [
      "running on Ursa Minor field\n"
     ]
    },
    {
     "name": "stderr",
     "output_type": "stream",
     "text": [
      "pipeline 41 | 2017-08-30 15:04:29,639 |  | INFO: smoothing image with ring filter with r_in = 5 and r_out = 8\n",
      "pipeline 47 | 2017-08-30 15:04:35,499 |  | INFO: measuring and subtracting background\n",
      "pipeline 50 | 2017-08-30 15:04:35,568 |  | INFO: detecting sources\n",
      "pipeline 79 | 2017-08-30 15:04:39,736 |  | INFO: displaying sources with mpl\n",
      "pipeline 21 | 2017-08-30 15:04:43,870 |  | INFO: fetching image nearest to ra, dec = 15.0392, -33.7092\n"
     ]
    },
    {
     "name": "stdout",
     "output_type": "stream",
     "text": [
      "running on Sculptor field\n"
     ]
    },
    {
     "name": "stderr",
     "output_type": "stream",
     "text": [
      "pipeline 41 | 2017-08-30 15:04:45,999 |  | INFO: smoothing image with ring filter with r_in = 5 and r_out = 8\n",
      "pipeline 47 | 2017-08-30 15:04:51,913 |  | INFO: measuring and subtracting background\n",
      "pipeline 50 | 2017-08-30 15:04:51,984 |  | INFO: detecting sources\n",
      "pipeline 79 | 2017-08-30 15:04:55,300 |  | INFO: displaying sources with mpl\n",
      "pipeline 21 | 2017-08-30 15:04:58,837 |  | INFO: fetching image nearest to ra, dec = 153.2625, -1.6147\n"
     ]
    },
    {
     "name": "stdout",
     "output_type": "stream",
     "text": [
      "running on Sextans (I) field\n"
     ]
    },
    {
     "name": "stderr",
     "output_type": "stream",
     "text": [
      "pipeline 41 | 2017-08-30 15:05:01,037 |  | INFO: smoothing image with ring filter with r_in = 5 and r_out = 8\n",
      "pipeline 47 | 2017-08-30 15:05:07,113 |  | INFO: measuring and subtracting background\n",
      "pipeline 50 | 2017-08-30 15:05:07,185 |  | INFO: detecting sources\n",
      "pipeline 79 | 2017-08-30 15:05:10,593 |  | INFO: displaying sources with mpl\n",
      "pipeline 21 | 2017-08-30 15:05:14,053 |  | INFO: fetching image nearest to ra, dec = 158.7200, 51.9200\n"
     ]
    },
    {
     "name": "stdout",
     "output_type": "stream",
     "text": [
      "running on Ursa Major (I) field\n"
     ]
    },
    {
     "name": "stderr",
     "output_type": "stream",
     "text": [
      "pipeline 41 | 2017-08-30 15:05:16,158 |  | INFO: smoothing image with ring filter with r_in = 5 and r_out = 8\n",
      "pipeline 47 | 2017-08-30 15:05:22,102 |  | INFO: measuring and subtracting background\n",
      "pipeline 50 | 2017-08-30 15:05:22,175 |  | INFO: detecting sources\n",
      "pipeline 79 | 2017-08-30 15:05:26,051 |  | INFO: displaying sources with mpl\n",
      "pipeline 21 | 2017-08-30 15:05:30,014 |  | INFO: fetching image nearest to ra, dec = 100.4029, -50.9661\n"
     ]
    },
    {
     "name": "stdout",
     "output_type": "stream",
     "text": [
      "running on Carina field\n"
     ]
    },
    {
     "name": "stderr",
     "output_type": "stream",
     "text": [
      "pipeline 41 | 2017-08-30 15:05:32,384 |  | INFO: smoothing image with ring filter with r_in = 5 and r_out = 8\n",
      "pipeline 47 | 2017-08-30 15:05:38,284 |  | INFO: measuring and subtracting background\n",
      "pipeline 50 | 2017-08-30 15:05:38,357 |  | INFO: detecting sources\n",
      "pipeline 79 | 2017-08-30 15:05:42,612 |  | INFO: displaying sources with mpl\n",
      "pipeline 21 | 2017-08-30 15:05:46,918 |  | INFO: fetching image nearest to ra, dec = 247.7583, 12.7917\n"
     ]
    },
    {
     "name": "stdout",
     "output_type": "stream",
     "text": [
      "running on Hercules field\n"
     ]
    },
    {
     "name": "stderr",
     "output_type": "stream",
     "text": [
      "pipeline 41 | 2017-08-30 15:05:49,286 |  | INFO: smoothing image with ring filter with r_in = 5 and r_out = 8\n",
      "pipeline 47 | 2017-08-30 15:05:55,687 |  | INFO: measuring and subtracting background\n",
      "pipeline 50 | 2017-08-30 15:05:55,762 |  | INFO: detecting sources\n",
      "pipeline 79 | 2017-08-30 15:06:00,295 |  | INFO: displaying sources with mpl\n",
      "pipeline 21 | 2017-08-30 15:06:04,627 |  | INFO: fetching image nearest to ra, dec = 39.9971, -34.4492\n"
     ]
    },
    {
     "name": "stdout",
     "output_type": "stream",
     "text": [
      "running on Fornax field\n"
     ]
    },
    {
     "name": "stderr",
     "output_type": "stream",
     "text": [
      "pipeline 41 | 2017-08-30 15:06:07,018 |  | INFO: smoothing image with ring filter with r_in = 5 and r_out = 8\n",
      "pipeline 47 | 2017-08-30 15:06:13,389 |  | INFO: measuring and subtracting background\n",
      "pipeline 50 | 2017-08-30 15:06:13,454 |  | INFO: detecting sources\n",
      "pipeline 79 | 2017-08-30 15:06:16,972 |  | INFO: displaying sources with mpl\n",
      "pipeline 21 | 2017-08-30 15:06:20,315 |  | INFO: fetching image nearest to ra, dec = 202.0146, 33.5558\n"
     ]
    },
    {
     "name": "stdout",
     "output_type": "stream",
     "text": [
      "running on Canes Venatici (I) field\n"
     ]
    },
    {
     "name": "stderr",
     "output_type": "stream",
     "text": [
      "pipeline 41 | 2017-08-30 15:06:22,410 |  | INFO: smoothing image with ring filter with r_in = 5 and r_out = 8\n",
      "pipeline 47 | 2017-08-30 15:06:28,269 |  | INFO: measuring and subtracting background\n",
      "pipeline 50 | 2017-08-30 15:06:28,336 |  | INFO: detecting sources\n",
      "pipeline 79 | 2017-08-30 15:06:32,035 |  | INFO: displaying sources with mpl\n"
     ]
    },
    {
     "name": "stdout",
     "output_type": "stream",
     "text": [
      "CPU times: user 2min 59s, sys: 2.87 s, total: 3min 2s\n",
      "Wall time: 2min 57s\n"
     ]
    }
   ],
   "source": [
    "%%time\n",
    "cats = []\n",
    "for name in names:\n",
    "    print('running on', name, 'field')\n",
    "    fetch = dwarfs['Name']==name\n",
    "    ra, dec = coords = dwarfs.loc[fetch, ['ra', 'dec']].values[0]\n",
    "    params = ashd.PipeParams()\n",
    "    params.do_ring_filter = True\n",
    "    params.r_inner = 5\n",
    "    params.r_outer = 8\n",
    "    #params.kernel = CustomKernel(exp_kern(5, 31))\n",
    "    params.kernel = Tophat2DKernel(15)\n",
    "    params.bh = 128\n",
    "    params.bw = 128\n",
    "    params.segmentation_map = True\n",
    "    pipe = ashd.ASHDPipe(ra, dec, params=params)\n",
    "    pipe.detect()\n",
    "    pipe.calc_auto_params()\n",
    "    pipe.display_sources(True, figsize=(15, 15), \n",
    "                         save_fn='/Users/protostar/Desktop/asas-sn-hd-figs/'+name+'.png')\n",
    "    cats.append(pipe.sources)   "
   ]
  }
 ],
 "metadata": {
  "kernelspec": {
   "display_name": "Python [conda env:py35]",
   "language": "python",
   "name": "conda-env-py35-py"
  },
  "language_info": {
   "codemirror_mode": {
    "name": "ipython",
    "version": 3
   },
   "file_extension": ".py",
   "mimetype": "text/x-python",
   "name": "python",
   "nbconvert_exporter": "python",
   "pygments_lexer": "ipython3",
   "version": "3.5.1"
  }
 },
 "nbformat": 4,
 "nbformat_minor": 2
}
