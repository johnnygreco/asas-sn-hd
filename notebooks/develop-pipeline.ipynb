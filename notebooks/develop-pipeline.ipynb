{
 "cells": [
  {
   "cell_type": "code",
   "execution_count": 1,
   "metadata": {
    "collapsed": false,
    "deletable": true,
    "editable": true
   },
   "outputs": [],
   "source": [
    "%matplotlib inline\n",
    "import numpy as np\n",
    "import pandas as pd\n",
    "import matplotlib.pyplot as plt\n",
    "from astropy.table import Table\n",
    "from astropy.convolution import Tophat2DKernel, CustomKernel\n",
    "import ashd"
   ]
  },
  {
   "cell_type": "code",
   "execution_count": 2,
   "metadata": {
    "collapsed": false,
    "deletable": true,
    "editable": true
   },
   "outputs": [
    {
     "name": "stderr",
     "output_type": "stream",
     "text": [
      "WARNING: UnitsWarning: '10+6Msun' did not parse as fits unit: At col 4, Unit 'Msun' not supported by the FITS standard. Did you mean Sun? [astropy.units.core]\n",
      "WARNING: UnitsWarning: '[Sun]' did not parse as fits unit: Invalid character at col 0 [astropy.units.core]\n"
     ]
    }
   ],
   "source": [
    "dwarfs = Table.read('../data/nearby-dwarfs.fits')\n",
    "dwarfs.rename_column('_RAJ2000', 'ra')\n",
    "dwarfs.rename_column('_DEJ2000', 'dec')\n",
    "dwarfs = dwarfs.to_pandas()\n",
    "cut = (dwarfs['R1']>8) & (dwarfs['R1']<50) "
   ]
  },
  {
   "cell_type": "code",
   "execution_count": 3,
   "metadata": {
    "collapsed": false,
    "deletable": true,
    "editable": true
   },
   "outputs": [],
   "source": [
    "names, mu0, rad, ra_vals, dec_vals = dwarfs.loc[cut, ['Name', 'muV', 'R1', 'ra', 'dec']].T.values"
   ]
  },
  {
   "cell_type": "code",
   "execution_count": 5,
   "metadata": {
    "collapsed": false,
    "deletable": true,
    "editable": true
   },
   "outputs": [
    {
     "name": "stdout",
     "output_type": "stream",
     "text": [
      "CPU times: user 2 µs, sys: 1e+03 ns, total: 3 µs\n",
      "Wall time: 6.2 µs\n"
     ]
    }
   ],
   "source": [
    "%%time\n",
    "if False:\n",
    "    cats = []\n",
    "    for name in names:\n",
    "        print('running on', name, 'field')\n",
    "        fetch = dwarfs['Name']==name\n",
    "        ra, dec = coords = dwarfs.loc[fetch, ['ra', 'dec']].values[0]\n",
    "        params = ashd.PipeParams()\n",
    "        params.do_ring_filter = True\n",
    "        params.r_inner = 5\n",
    "        params.r_outer = 8\n",
    "        #params.kernel = CustomKernel(exp_kern(5, 31))\n",
    "        params.kernel = Tophat2DKernel(15)\n",
    "        params.bh = 128\n",
    "        params.bw = 128\n",
    "        params.segmentation_map = True\n",
    "        pipe = ashd.ASHDPipe(ra, dec, params=params)\n",
    "        pipe.detect()\n",
    "        pipe.calc_auto_params()\n",
    "        pipe.display_sources(True, figsize=(15, 15), \n",
    "                             save_fn='/Users/protostar/Desktop/asas-sn-hd-figs/'+name+'.png')\n",
    "        cats.append(pipe.sources)   "
   ]
  },
  {
   "cell_type": "code",
   "execution_count": 4,
   "metadata": {
    "collapsed": false
   },
   "outputs": [
    {
     "name": "stderr",
     "output_type": "stream",
     "text": [
      "pipeline 24 | 2017-08-30 18:02:32,762 |  | INFO: fetching image nearest to ra, dec = 39.9971, -34.4492\n",
      "pipeline 45 | 2017-08-30 18:02:35,006 |  | INFO: smoothing image with ring filter with r_in = 5 and r_out = 8\n",
      "pipeline 51 | 2017-08-30 18:02:41,140 |  | INFO: measuring and subtracting background\n",
      "pipeline 54 | 2017-08-30 18:02:41,210 |  | INFO: detecting sources\n"
     ]
    }
   ],
   "source": [
    "fetch = dwarfs['Name']=='Fornax'\n",
    "ra, dec = coords = dwarfs.loc[fetch, ['ra', 'dec']].values[0]\n",
    "params = ashd.PipeParams()\n",
    "params.do_ring_filter = True\n",
    "params.r_inner = 5\n",
    "params.r_outer = 8\n",
    "#params.kernel = CustomKernel(exp_kern(5, 31))\n",
    "params.kernel = Tophat2DKernel(15)\n",
    "params.bh = 128\n",
    "params.bw = 128\n",
    "params.segmentation_map = True\n",
    "pipe = ashd.ASHDPipe(ra, dec, params=params)\n",
    "pipe.detect()\n",
    "pipe.calc_auto_params()"
   ]
  },
  {
   "cell_type": "code",
   "execution_count": 5,
   "metadata": {
    "collapsed": false
   },
   "outputs": [],
   "source": [
    "engine = ashd.database.connect('/Users/protostar/Desktop/test.db')\n",
    "session = ashd.database.Session()"
   ]
  },
  {
   "cell_type": "code",
   "execution_count": 6,
   "metadata": {
    "collapsed": false
   },
   "outputs": [],
   "source": [
    "pipe.write_to_db(session)"
   ]
  },
  {
   "cell_type": "code",
   "execution_count": null,
   "metadata": {
    "collapsed": true
   },
   "outputs": [],
   "source": []
  }
 ],
 "metadata": {
  "kernelspec": {
   "display_name": "Python [conda env:py35]",
   "language": "python",
   "name": "conda-env-py35-py"
  },
  "language_info": {
   "codemirror_mode": {
    "name": "ipython",
    "version": 3
   },
   "file_extension": ".py",
   "mimetype": "text/x-python",
   "name": "python",
   "nbconvert_exporter": "python",
   "pygments_lexer": "ipython3",
   "version": "3.5.1"
  }
 },
 "nbformat": 4,
 "nbformat_minor": 2
}
