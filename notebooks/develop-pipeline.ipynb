{
 "cells": [
  {
   "cell_type": "code",
   "execution_count": 1,
   "metadata": {
    "collapsed": true,
    "deletable": true,
    "editable": true
   },
   "outputs": [],
   "source": [
    "%matplotlib inline\n",
    "import numpy as np\n",
    "import pandas as pd\n",
    "import matplotlib.pyplot as plt\n",
    "from astropy.table import Table\n",
    "from astropy.convolution import Tophat2DKernel, CustomKernel\n",
    "import ashd"
   ]
  },
  {
   "cell_type": "code",
   "execution_count": 6,
   "metadata": {
    "collapsed": false,
    "deletable": true,
    "editable": true
   },
   "outputs": [
    {
     "name": "stderr",
     "output_type": "stream",
     "text": [
      "WARNING: UnitsWarning: '10+6Msun' did not parse as fits unit: At col 4, Unit 'Msun' not supported by the FITS standard. Did you mean Sun? [astropy.units.core]\n",
      "WARNING: UnitsWarning: '[Sun]' did not parse as fits unit: Invalid character at col 0 [astropy.units.core]\n"
     ]
    }
   ],
   "source": [
    "dwarfs = Table.read('../data/nearby-dwarfs.fits')\n",
    "dwarfs.rename_column('_RAJ2000', 'ra')\n",
    "dwarfs.rename_column('_DEJ2000', 'dec')\n",
    "dwarfs = dwarfs.to_pandas()\n",
    "cut = (dwarfs['R1']>8) & (dwarfs['R1']<50) "
   ]
  },
  {
   "cell_type": "code",
   "execution_count": 27,
   "metadata": {
    "collapsed": false,
    "deletable": true,
    "editable": true
   },
   "outputs": [],
   "source": [
    "names, mu0, rad, ra_vals, dec_vals = dwarfs.loc[cut, ['Name', 'muV', 'R1', 'ra', 'dec']].T.values"
   ]
  },
  {
   "cell_type": "code",
   "execution_count": 7,
   "metadata": {
    "collapsed": false,
    "deletable": true,
    "editable": true
   },
   "outputs": [
    {
     "name": "stderr",
     "output_type": "stream",
     "text": [
      "pipeline 26 | 2017-08-30 18:38:01,153 |  | INFO: fetching image near to ra,dec = 132.8750,63.1300\n"
     ]
    },
    {
     "name": "stdout",
     "output_type": "stream",
     "text": [
      "running on Ursa Major II field\n"
     ]
    },
    {
     "name": "stderr",
     "output_type": "stream",
     "text": [
      "pipeline 51 | 2017-08-30 18:38:04,990 |  | INFO: smoothing image with ring filter with r_in = 5 and r_out = 8\n",
      "pipeline 57 | 2017-08-30 18:38:10,947 |  | INFO: measuring and subtracting background\n",
      "pipeline 60 | 2017-08-30 18:38:11,015 |  | INFO: detecting sources\n",
      "pipeline 108 | 2017-08-30 18:38:15,208 |  | INFO: writing catalog to database\n",
      "pipeline 26 | 2017-08-30 18:38:15,305 |  | INFO: fetching image near to ra,dec = 210.0250,14.5000\n"
     ]
    },
    {
     "name": "stdout",
     "output_type": "stream",
     "text": [
      "running on Bootes (I) field\n"
     ]
    },
    {
     "name": "stderr",
     "output_type": "stream",
     "text": [
      "pipeline 51 | 2017-08-30 18:38:18,283 |  | INFO: smoothing image with ring filter with r_in = 5 and r_out = 8\n",
      "pipeline 57 | 2017-08-30 18:38:24,201 |  | INFO: measuring and subtracting background\n",
      "pipeline 60 | 2017-08-30 18:38:24,268 |  | INFO: detecting sources\n",
      "pipeline 108 | 2017-08-30 18:38:27,537 |  | INFO: writing catalog to database\n",
      "pipeline 26 | 2017-08-30 18:38:27,578 |  | INFO: fetching image near to ra,dec = 260.0517,57.9153\n"
     ]
    },
    {
     "name": "stdout",
     "output_type": "stream",
     "text": [
      "running on Draco field\n"
     ]
    },
    {
     "name": "stderr",
     "output_type": "stream",
     "text": [
      "pipeline 51 | 2017-08-30 18:38:30,588 |  | INFO: smoothing image with ring filter with r_in = 5 and r_out = 8\n",
      "pipeline 57 | 2017-08-30 18:38:36,444 |  | INFO: measuring and subtracting background\n",
      "pipeline 60 | 2017-08-30 18:38:36,515 |  | INFO: detecting sources\n",
      "pipeline 108 | 2017-08-30 18:38:40,888 |  | INFO: writing catalog to database\n",
      "pipeline 26 | 2017-08-30 18:38:40,968 |  | INFO: fetching image near to ra,dec = 227.2854,67.2225\n"
     ]
    },
    {
     "name": "stdout",
     "output_type": "stream",
     "text": [
      "running on Ursa Minor field\n"
     ]
    },
    {
     "name": "stderr",
     "output_type": "stream",
     "text": [
      "pipeline 51 | 2017-08-30 18:38:44,100 |  | INFO: smoothing image with ring filter with r_in = 5 and r_out = 8\n",
      "pipeline 57 | 2017-08-30 18:38:50,217 |  | INFO: measuring and subtracting background\n",
      "pipeline 60 | 2017-08-30 18:38:50,287 |  | INFO: detecting sources\n",
      "pipeline 108 | 2017-08-30 18:38:54,407 |  | INFO: writing catalog to database\n",
      "pipeline 26 | 2017-08-30 18:38:54,454 |  | INFO: fetching image near to ra,dec = 15.0392,-33.7092\n"
     ]
    },
    {
     "name": "stdout",
     "output_type": "stream",
     "text": [
      "running on Sculptor field\n"
     ]
    },
    {
     "name": "stderr",
     "output_type": "stream",
     "text": [
      "pipeline 51 | 2017-08-30 18:38:57,246 |  | INFO: smoothing image with ring filter with r_in = 5 and r_out = 8\n",
      "pipeline 57 | 2017-08-30 18:39:03,231 |  | INFO: measuring and subtracting background\n",
      "pipeline 60 | 2017-08-30 18:39:03,299 |  | INFO: detecting sources\n",
      "pipeline 108 | 2017-08-30 18:39:06,615 |  | INFO: writing catalog to database\n",
      "pipeline 26 | 2017-08-30 18:39:06,810 |  | INFO: fetching image near to ra,dec = 153.2625,-1.6147\n"
     ]
    },
    {
     "name": "stdout",
     "output_type": "stream",
     "text": [
      "running on Sextans (I) field\n"
     ]
    },
    {
     "name": "stderr",
     "output_type": "stream",
     "text": [
      "pipeline 51 | 2017-08-30 18:39:10,395 |  | INFO: smoothing image with ring filter with r_in = 5 and r_out = 8\n",
      "pipeline 57 | 2017-08-30 18:39:16,379 |  | INFO: measuring and subtracting background\n",
      "pipeline 60 | 2017-08-30 18:39:16,446 |  | INFO: detecting sources\n",
      "pipeline 108 | 2017-08-30 18:39:19,672 |  | INFO: writing catalog to database\n",
      "pipeline 26 | 2017-08-30 18:39:20,997 |  | INFO: fetching image near to ra,dec = 158.7200,51.9200\n"
     ]
    },
    {
     "name": "stdout",
     "output_type": "stream",
     "text": [
      "running on Ursa Major (I) field\n"
     ]
    },
    {
     "name": "stderr",
     "output_type": "stream",
     "text": [
      "pipeline 51 | 2017-08-30 18:39:25,545 |  | INFO: smoothing image with ring filter with r_in = 5 and r_out = 8\n",
      "pipeline 57 | 2017-08-30 18:39:31,509 |  | INFO: measuring and subtracting background\n",
      "pipeline 60 | 2017-08-30 18:39:31,580 |  | INFO: detecting sources\n",
      "pipeline 108 | 2017-08-30 18:39:35,328 |  | INFO: writing catalog to database\n",
      "pipeline 26 | 2017-08-30 18:39:35,491 |  | INFO: fetching image near to ra,dec = 100.4029,-50.9661\n"
     ]
    },
    {
     "name": "stdout",
     "output_type": "stream",
     "text": [
      "running on Carina field\n"
     ]
    },
    {
     "name": "stderr",
     "output_type": "stream",
     "text": [
      "pipeline 51 | 2017-08-30 18:39:39,582 |  | INFO: smoothing image with ring filter with r_in = 5 and r_out = 8\n",
      "pipeline 57 | 2017-08-30 18:39:45,415 |  | INFO: measuring and subtracting background\n",
      "pipeline 60 | 2017-08-30 18:39:45,489 |  | INFO: detecting sources\n",
      "pipeline 108 | 2017-08-30 18:39:49,602 |  | INFO: writing catalog to database\n",
      "pipeline 26 | 2017-08-30 18:39:50,458 |  | INFO: fetching image near to ra,dec = 247.7583,12.7917\n"
     ]
    },
    {
     "name": "stdout",
     "output_type": "stream",
     "text": [
      "running on Hercules field\n"
     ]
    },
    {
     "name": "stderr",
     "output_type": "stream",
     "text": [
      "pipeline 51 | 2017-08-30 18:39:55,171 |  | INFO: smoothing image with ring filter with r_in = 5 and r_out = 8\n",
      "pipeline 57 | 2017-08-30 18:40:01,078 |  | INFO: measuring and subtracting background\n",
      "pipeline 60 | 2017-08-30 18:40:01,151 |  | INFO: detecting sources\n",
      "pipeline 108 | 2017-08-30 18:40:05,493 |  | INFO: writing catalog to database\n",
      "pipeline 26 | 2017-08-30 18:40:05,553 |  | INFO: fetching image near to ra,dec = 39.9971,-34.4492\n"
     ]
    },
    {
     "name": "stdout",
     "output_type": "stream",
     "text": [
      "running on Fornax field\n"
     ]
    },
    {
     "name": "stderr",
     "output_type": "stream",
     "text": [
      "pipeline 51 | 2017-08-30 18:40:07,661 |  | INFO: smoothing image with ring filter with r_in = 5 and r_out = 8\n",
      "pipeline 57 | 2017-08-30 18:40:13,548 |  | INFO: measuring and subtracting background\n",
      "pipeline 60 | 2017-08-30 18:40:13,613 |  | INFO: detecting sources\n",
      "pipeline 108 | 2017-08-30 18:40:17,099 |  | INFO: writing catalog to database\n",
      "pipeline 26 | 2017-08-30 18:40:17,146 |  | INFO: fetching image near to ra,dec = 202.0146,33.5558\n"
     ]
    },
    {
     "name": "stdout",
     "output_type": "stream",
     "text": [
      "running on Canes Venatici (I) field\n"
     ]
    },
    {
     "name": "stderr",
     "output_type": "stream",
     "text": [
      "pipeline 51 | 2017-08-30 18:40:20,111 |  | INFO: smoothing image with ring filter with r_in = 5 and r_out = 8\n",
      "pipeline 57 | 2017-08-30 18:40:26,011 |  | INFO: measuring and subtracting background\n",
      "pipeline 60 | 2017-08-30 18:40:26,079 |  | INFO: detecting sources\n",
      "pipeline 108 | 2017-08-30 18:40:29,893 |  | INFO: writing catalog to database\n"
     ]
    },
    {
     "name": "stdout",
     "output_type": "stream",
     "text": [
      "CPU times: user 2min 9s, sys: 1.67 s, total: 2min 11s\n",
      "Wall time: 2min 29s\n"
     ]
    }
   ],
   "source": [
    "%%time\n",
    "engine = ashd.database.connect('/Users/protostar/Desktop/test.db', overwrite=True)\n",
    "session = ashd.database.Session()\n",
    "if True:\n",
    "    for name in names:\n",
    "        print('running on', name, 'field')\n",
    "        fetch = dwarfs['Name']==name\n",
    "        ra, dec = coords = dwarfs.loc[fetch, ['ra', 'dec']].values[0]\n",
    "        params = ashd.PipeParams()\n",
    "        params.do_ring_filter = True\n",
    "        params.r_inner = 5\n",
    "        params.r_outer = 8\n",
    "        #params.kernel = CustomKernel(exp_kern(5, 31))\n",
    "        params.kernel = Tophat2DKernel(15)\n",
    "        params.bh = 128\n",
    "        params.bw = 128\n",
    "        params.segmentation_map = True\n",
    "        pipe = ashd.ASHDPipe(ra, dec, params=params)\n",
    "        pipe.detect()\n",
    "        pipe.calc_auto_params()\n",
    "#        pipe.display_sources(True, figsize=(15, 15), \n",
    "#                             save_fn='/Users/protostar/Desktop/asas-sn-hd-figs/'+name+'.png')\n",
    "        pipe.write_to_db(session)"
   ]
  },
  {
   "cell_type": "code",
   "execution_count": 4,
   "metadata": {
    "collapsed": false,
    "deletable": true,
    "editable": true
   },
   "outputs": [],
   "source": [
    "fetch = dwarfs['Name']=='Fornax'\n",
    "ra, dec  = dwarfs.loc[fetch, ['ra', 'dec']].values[0]\n",
    "butler = ashd.Butler()"
   ]
  },
  {
   "cell_type": "code",
   "execution_count": 29,
   "metadata": {
    "collapsed": false,
    "deletable": true,
    "editable": true
   },
   "outputs": [],
   "source": [
    "fn = butler.get_image_fn(ra, dec)"
   ]
  },
  {
   "cell_type": "code",
   "execution_count": 7,
   "metadata": {
    "collapsed": false,
    "deletable": true,
    "editable": true
   },
   "outputs": [
    {
     "name": "stderr",
     "output_type": "stream",
     "text": [
      "pipeline 26 | 2017-08-31 16:18:39,045 |  | INFO: fetching image near to ra,dec = 318.7500,85.0000\n",
      "pipeline 51 | 2017-08-31 16:18:41,550 |  | INFO: smoothing image with ring filter with r_in = 5 and r_out = 8\n",
      "pipeline 57 | 2017-08-31 16:18:47,550 |  | INFO: measuring and subtracting background\n",
      "pipeline 60 | 2017-08-31 16:18:47,625 |  | INFO: detecting sources\n"
     ]
    }
   ],
   "source": [
    "fetch = dwarfs['Name']=='Fornax'\n",
    "#ra, dec = coords = dwarfs.loc[fetch, ['ra', 'dec']].values[0]\n",
    "params = ashd.PipeParams()\n",
    "params.do_ring_filter = True\n",
    "params.r_inner = 5\n",
    "params.r_outer = 8\n",
    "#params.kernel = CustomKernel(exp_kern(5, 31))\n",
    "params.kernel = Tophat2DKernel(15)\n",
    "params.bh = 128\n",
    "params.bw = 128\n",
    "params.segmentation_map = True\n",
    "pipe = ashd.ASHDPipe(318.7500, 85.0000, params=params)\n",
    "pipe.detect()\n",
    "pipe.calc_auto_params()"
   ]
  }
 ],
 "metadata": {
  "kernelspec": {
   "display_name": "Python [conda env:py35]",
   "language": "python",
   "name": "conda-env-py35-py"
  },
  "language_info": {
   "codemirror_mode": {
    "name": "ipython",
    "version": 3
   },
   "file_extension": ".py",
   "mimetype": "text/x-python",
   "name": "python",
   "nbconvert_exporter": "python",
   "pygments_lexer": "ipython3",
   "version": "3.5.1"
  }
 },
 "nbformat": 4,
 "nbformat_minor": 2
}
