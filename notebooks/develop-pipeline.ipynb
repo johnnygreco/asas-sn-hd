{
 "cells": [
  {
   "cell_type": "code",
   "execution_count": null,
   "metadata": {
    "collapsed": true,
    "deletable": true,
    "editable": true
   },
   "outputs": [],
   "source": [
    "%matplotlib inline\n",
    "import numpy as np\n",
    "import pandas as pd\n",
    "import matplotlib.pyplot as plt\n",
    "from astropy.table import Table\n",
    "from astropy.convolution import Tophat2DKernel, CustomKernel\n",
    "import ashd"
   ]
  },
  {
   "cell_type": "code",
   "execution_count": null,
   "metadata": {
    "collapsed": false,
    "deletable": true,
    "editable": true
   },
   "outputs": [],
   "source": [
    "dwarfs = Table.read('../data/nearby-dwarfs.fits')\n",
    "dwarfs.rename_column('_RAJ2000', 'ra')\n",
    "dwarfs.rename_column('_DEJ2000', 'dec')\n",
    "dwarfs = dwarfs.to_pandas()\n",
    "cut = (dwarfs['R1']>8) & (dwarfs['R1']<50) "
   ]
  },
  {
   "cell_type": "code",
   "execution_count": null,
   "metadata": {
    "collapsed": false,
    "deletable": true,
    "editable": true
   },
   "outputs": [],
   "source": [
    "names, mu0, rad, ra_vals, dec_vals = dwarfs.loc[cut, ['Name', 'muV', 'R1', 'ra', 'dec']].T.values"
   ]
  },
  {
   "cell_type": "code",
   "execution_count": 4,
   "metadata": {
    "collapsed": false,
    "deletable": true,
    "editable": true
   },
   "outputs": [
    {
     "name": "stderr",
     "output_type": "stream",
     "text": [
      "pipeline 24 | 2017-08-30 18:06:25,895 |  | INFO: fetching image nearest to ra, dec = 132.8750, 63.1300\n"
     ]
    },
    {
     "name": "stdout",
     "output_type": "stream",
     "text": [
      "running on Ursa Major II field\n"
     ]
    },
    {
     "name": "stderr",
     "output_type": "stream",
     "text": [
      "pipeline 45 | 2017-08-30 18:06:28,579 |  | INFO: smoothing image with ring filter with r_in = 5 and r_out = 8\n",
      "pipeline 51 | 2017-08-30 18:06:34,657 |  | INFO: measuring and subtracting background\n",
      "pipeline 54 | 2017-08-30 18:06:34,731 |  | INFO: detecting sources\n",
      "pipeline 24 | 2017-08-30 18:06:39,094 |  | INFO: fetching image nearest to ra, dec = 210.0250, 14.5000\n"
     ]
    },
    {
     "name": "stdout",
     "output_type": "stream",
     "text": [
      "running on Bootes (I) field\n"
     ]
    },
    {
     "name": "stderr",
     "output_type": "stream",
     "text": [
      "pipeline 45 | 2017-08-30 18:06:41,620 |  | INFO: smoothing image with ring filter with r_in = 5 and r_out = 8\n",
      "pipeline 51 | 2017-08-30 18:06:47,734 |  | INFO: measuring and subtracting background\n",
      "pipeline 54 | 2017-08-30 18:06:47,802 |  | INFO: detecting sources\n",
      "pipeline 24 | 2017-08-30 18:06:53,318 |  | INFO: fetching image nearest to ra, dec = 260.0517, 57.9153\n"
     ]
    },
    {
     "name": "stdout",
     "output_type": "stream",
     "text": [
      "running on Draco field\n"
     ]
    },
    {
     "name": "stderr",
     "output_type": "stream",
     "text": [
      "pipeline 45 | 2017-08-30 18:06:55,838 |  | INFO: smoothing image with ring filter with r_in = 5 and r_out = 8\n",
      "pipeline 51 | 2017-08-30 18:07:01,700 |  | INFO: measuring and subtracting background\n",
      "pipeline 54 | 2017-08-30 18:07:01,773 |  | INFO: detecting sources\n",
      "pipeline 24 | 2017-08-30 18:07:06,268 |  | INFO: fetching image nearest to ra, dec = 227.2854, 67.2225\n"
     ]
    },
    {
     "name": "stdout",
     "output_type": "stream",
     "text": [
      "running on Ursa Minor field\n"
     ]
    },
    {
     "name": "stderr",
     "output_type": "stream",
     "text": [
      "pipeline 45 | 2017-08-30 18:07:08,786 |  | INFO: smoothing image with ring filter with r_in = 5 and r_out = 8\n",
      "pipeline 51 | 2017-08-30 18:07:14,765 |  | INFO: measuring and subtracting background\n",
      "pipeline 54 | 2017-08-30 18:07:14,837 |  | INFO: detecting sources\n",
      "pipeline 24 | 2017-08-30 18:07:19,125 |  | INFO: fetching image nearest to ra, dec = 15.0392, -33.7092\n"
     ]
    },
    {
     "name": "stdout",
     "output_type": "stream",
     "text": [
      "running on Sculptor field\n"
     ]
    },
    {
     "name": "stderr",
     "output_type": "stream",
     "text": [
      "pipeline 45 | 2017-08-30 18:07:22,194 |  | INFO: smoothing image with ring filter with r_in = 5 and r_out = 8\n",
      "pipeline 51 | 2017-08-30 18:07:28,257 |  | INFO: measuring and subtracting background\n",
      "pipeline 54 | 2017-08-30 18:07:28,329 |  | INFO: detecting sources\n",
      "pipeline 24 | 2017-08-30 18:07:31,898 |  | INFO: fetching image nearest to ra, dec = 153.2625, -1.6147\n"
     ]
    },
    {
     "name": "stdout",
     "output_type": "stream",
     "text": [
      "running on Sextans (I) field\n"
     ]
    },
    {
     "name": "stderr",
     "output_type": "stream",
     "text": [
      "pipeline 45 | 2017-08-30 18:07:35,676 |  | INFO: smoothing image with ring filter with r_in = 5 and r_out = 8\n",
      "pipeline 51 | 2017-08-30 18:07:41,666 |  | INFO: measuring and subtracting background\n",
      "pipeline 54 | 2017-08-30 18:07:41,734 |  | INFO: detecting sources\n",
      "pipeline 24 | 2017-08-30 18:07:45,135 |  | INFO: fetching image nearest to ra, dec = 158.7200, 51.9200\n"
     ]
    },
    {
     "name": "stdout",
     "output_type": "stream",
     "text": [
      "running on Ursa Major (I) field\n"
     ]
    },
    {
     "name": "stderr",
     "output_type": "stream",
     "text": [
      "pipeline 45 | 2017-08-30 18:07:48,332 |  | INFO: smoothing image with ring filter with r_in = 5 and r_out = 8\n",
      "pipeline 51 | 2017-08-30 18:07:54,356 |  | INFO: measuring and subtracting background\n",
      "pipeline 54 | 2017-08-30 18:07:54,446 |  | INFO: detecting sources\n",
      "pipeline 24 | 2017-08-30 18:07:58,457 |  | INFO: fetching image nearest to ra, dec = 100.4029, -50.9661\n"
     ]
    },
    {
     "name": "stdout",
     "output_type": "stream",
     "text": [
      "running on Carina field\n"
     ]
    },
    {
     "name": "stderr",
     "output_type": "stream",
     "text": [
      "pipeline 45 | 2017-08-30 18:08:02,534 |  | INFO: smoothing image with ring filter with r_in = 5 and r_out = 8\n",
      "pipeline 51 | 2017-08-30 18:08:08,452 |  | INFO: measuring and subtracting background\n",
      "pipeline 54 | 2017-08-30 18:08:08,529 |  | INFO: detecting sources\n",
      "pipeline 24 | 2017-08-30 18:08:12,809 |  | INFO: fetching image nearest to ra, dec = 247.7583, 12.7917\n"
     ]
    },
    {
     "name": "stdout",
     "output_type": "stream",
     "text": [
      "running on Hercules field\n"
     ]
    },
    {
     "name": "stderr",
     "output_type": "stream",
     "text": [
      "pipeline 45 | 2017-08-30 18:08:16,224 |  | INFO: smoothing image with ring filter with r_in = 5 and r_out = 8\n",
      "pipeline 51 | 2017-08-30 18:08:22,211 |  | INFO: measuring and subtracting background\n",
      "pipeline 54 | 2017-08-30 18:08:22,284 |  | INFO: detecting sources\n",
      "pipeline 24 | 2017-08-30 18:08:26,804 |  | INFO: fetching image nearest to ra, dec = 39.9971, -34.4492\n"
     ]
    },
    {
     "name": "stdout",
     "output_type": "stream",
     "text": [
      "running on Fornax field\n"
     ]
    },
    {
     "name": "stderr",
     "output_type": "stream",
     "text": [
      "pipeline 45 | 2017-08-30 18:08:30,164 |  | INFO: smoothing image with ring filter with r_in = 5 and r_out = 8\n",
      "pipeline 51 | 2017-08-30 18:08:36,135 |  | INFO: measuring and subtracting background\n",
      "pipeline 54 | 2017-08-30 18:08:36,201 |  | INFO: detecting sources\n",
      "pipeline 24 | 2017-08-30 18:08:39,636 |  | INFO: fetching image nearest to ra, dec = 202.0146, 33.5558\n"
     ]
    },
    {
     "name": "stdout",
     "output_type": "stream",
     "text": [
      "running on Canes Venatici (I) field\n"
     ]
    },
    {
     "name": "stderr",
     "output_type": "stream",
     "text": [
      "pipeline 45 | 2017-08-30 18:08:42,661 |  | INFO: smoothing image with ring filter with r_in = 5 and r_out = 8\n",
      "pipeline 51 | 2017-08-30 18:08:48,588 |  | INFO: measuring and subtracting background\n",
      "pipeline 54 | 2017-08-30 18:08:48,656 |  | INFO: detecting sources\n"
     ]
    },
    {
     "name": "stdout",
     "output_type": "stream",
     "text": [
      "CPU times: user 2min 11s, sys: 1.92 s, total: 2min 13s\n",
      "Wall time: 2min 27s\n"
     ]
    }
   ],
   "source": [
    "%%time\n",
    "engine = ashd.database.connect('/Users/protostar/Desktop/test.db', overwrite=True)\n",
    "session = ashd.database.Session()\n",
    "if True:\n",
    "    for name in names:\n",
    "        print('running on', name, 'field')\n",
    "        fetch = dwarfs['Name']==name\n",
    "        ra, dec = coords = dwarfs.loc[fetch, ['ra', 'dec']].values[0]\n",
    "        params = ashd.PipeParams()\n",
    "        params.do_ring_filter = True\n",
    "        params.r_inner = 5\n",
    "        params.r_outer = 8\n",
    "        #params.kernel = CustomKernel(exp_kern(5, 31))\n",
    "        params.kernel = Tophat2DKernel(15)\n",
    "        params.bh = 128\n",
    "        params.bw = 128\n",
    "        params.segmentation_map = True\n",
    "        pipe = ashd.ASHDPipe(ra, dec, params=params)\n",
    "        pipe.detect()\n",
    "        pipe.calc_auto_params()\n",
    "#        pipe.display_sources(True, figsize=(15, 15), \n",
    "#                             save_fn='/Users/protostar/Desktop/asas-sn-hd-figs/'+name+'.png')\n",
    "        pipe.write_to_db(session)"
   ]
  },
  {
   "cell_type": "code",
   "execution_count": 5,
   "metadata": {
    "collapsed": false
   },
   "outputs": [],
   "source": [
    "fetch = dwarfs['Name']=='Fornax'\n",
    "ra, dec  = dwarfs.loc[fetch, ['ra', 'dec']].values[0]\n",
    "butler = ashd.Butler()"
   ]
  },
  {
   "cell_type": "code",
   "execution_count": 7,
   "metadata": {
    "collapsed": false
   },
   "outputs": [
    {
     "ename": "TypeError",
     "evalue": "get_sb_sig() got an unexpected keyword argument 'fn'",
     "output_type": "error",
     "traceback": [
      "\u001b[0;31m---------------------------------------------------------------------------\u001b[0m",
      "\u001b[0;31mTypeError\u001b[0m                                 Traceback (most recent call last)",
      "\u001b[0;32m<ipython-input-7-498da08b9a25>\u001b[0m in \u001b[0;36m<module>\u001b[0;34m()\u001b[0m\n\u001b[0;32m----> 1\u001b[0;31m \u001b[0mfn\u001b[0m \u001b[0;34m=\u001b[0m \u001b[0mbutler\u001b[0m\u001b[0;34m.\u001b[0m\u001b[0mget_image_fn\u001b[0m\u001b[0;34m(\u001b[0m\u001b[0mra\u001b[0m\u001b[0;34m,\u001b[0m \u001b[0mdec\u001b[0m\u001b[0;34m)\u001b[0m\u001b[0;34m\u001b[0m\u001b[0m\n\u001b[0m",
      "\u001b[0;32m/Users/protostar/Dropbox/projects/asas-sn-hd/ashd/butler.py\u001b[0m in \u001b[0;36mget_image_fn\u001b[0;34m(self, ra, dec, unit)\u001b[0m\n\u001b[1;32m     40\u001b[0m             \u001b[0msig\u001b[0m \u001b[0;34m=\u001b[0m \u001b[0;34m[\u001b[0m\u001b[0;34m]\u001b[0m\u001b[0;34m\u001b[0m\u001b[0m\n\u001b[1;32m     41\u001b[0m             \u001b[0;32mfor\u001b[0m \u001b[0mf\u001b[0m \u001b[0;32min\u001b[0m \u001b[0mfn\u001b[0m\u001b[0;34m:\u001b[0m\u001b[0;34m\u001b[0m\u001b[0m\n\u001b[0;32m---> 42\u001b[0;31m                 \u001b[0msig\u001b[0m\u001b[0;34m.\u001b[0m\u001b[0mappend\u001b[0m\u001b[0;34m(\u001b[0m\u001b[0mself\u001b[0m\u001b[0;34m.\u001b[0m\u001b[0mget_sb_sig\u001b[0m\u001b[0;34m(\u001b[0m\u001b[0mfn\u001b[0m\u001b[0;34m=\u001b[0m\u001b[0mf\u001b[0m\u001b[0;34m)\u001b[0m\u001b[0;34m)\u001b[0m\u001b[0;34m\u001b[0m\u001b[0m\n\u001b[0m\u001b[1;32m     43\u001b[0m             \u001b[0mfn\u001b[0m \u001b[0;34m=\u001b[0m \u001b[0mfn\u001b[0m\u001b[0;34m[\u001b[0m\u001b[0mnp\u001b[0m\u001b[0;34m.\u001b[0m\u001b[0margmax\u001b[0m\u001b[0;34m(\u001b[0m\u001b[0msig\u001b[0m\u001b[0;34m)\u001b[0m\u001b[0;34m]\u001b[0m\u001b[0;34m\u001b[0m\u001b[0m\n\u001b[1;32m     44\u001b[0m         \u001b[0;32melse\u001b[0m\u001b[0;34m:\u001b[0m\u001b[0;34m\u001b[0m\u001b[0m\n",
      "\u001b[0;31mTypeError\u001b[0m: get_sb_sig() got an unexpected keyword argument 'fn'"
     ]
    }
   ],
   "source": [
    "fn = butler.get_image_fn(ra, dec)"
   ]
  },
  {
   "cell_type": "code",
   "execution_count": null,
   "metadata": {
    "collapsed": false
   },
   "outputs": [],
   "source": [
    "fetch = dwarfs['Name']=='Fornax'\n",
    "ra, dec = coords = dwarfs.loc[fetch, ['ra', 'dec']].values[0]\n",
    "params = ashd.PipeParams()\n",
    "params.do_ring_filter = True\n",
    "params.r_inner = 5\n",
    "params.r_outer = 8\n",
    "#params.kernel = CustomKernel(exp_kern(5, 31))\n",
    "params.kernel = Tophat2DKernel(15)\n",
    "params.bh = 128\n",
    "params.bw = 128\n",
    "params.segmentation_map = True\n",
    "pipe = ashd.ASHDPipe(image_fn=fn, params=params)\n",
    "pipe.detect()\n",
    "pipe.calc_auto_params()"
   ]
  },
  {
   "cell_type": "code",
   "execution_count": null,
   "metadata": {
    "collapsed": true
   },
   "outputs": [],
   "source": []
  }
 ],
 "metadata": {
  "kernelspec": {
   "display_name": "Python [conda env:py35]",
   "language": "python",
   "name": "conda-env-py35-py"
  },
  "language_info": {
   "codemirror_mode": {
    "name": "ipython",
    "version": 3
   },
   "file_extension": ".py",
   "mimetype": "text/x-python",
   "name": "python",
   "nbconvert_exporter": "python",
   "pygments_lexer": "ipython3",
   "version": "3.5.1"
  }
 },
 "nbformat": 4,
 "nbformat_minor": 2
}
